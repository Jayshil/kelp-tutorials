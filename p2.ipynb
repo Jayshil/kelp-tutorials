{
 "cells": [
  {
   "cell_type": "markdown",
   "metadata": {},
   "source": [
    "# `kelp` tutorial: the case of WASP-189b\n",
    "\n",
    "WASP-189 is a recent planet observed by CHEOPS as a part of its early science release program. CHEOPS has observed total of 6 of its eclipses, two of them were surrounded by a nice phase modulation, and 4 transits. In a separate set of notebooks, we have analysed four of its transits and six eclipses --- which can be found [here](https://github.com/Jayshil/pycheops-tutorials/tree/main/WASP-189)."
   ]
  },
  {
   "cell_type": "markdown",
   "metadata": {},
   "source": []
  }
 ],
 "metadata": {
  "language_info": {
   "name": "python"
  },
  "orig_nbformat": 4
 },
 "nbformat": 4,
 "nbformat_minor": 2
}
